{
 "cells": [
  {
   "cell_type": "markdown",
   "metadata": {
    "id": "17TEUo50Oxtx"
   },
   "source": [
    "Importing necessary libraries"
   ]
  },
  {
   "cell_type": "code",
   "execution_count": null,
   "metadata": {
    "id": "EsIcLuavJfxf"
   },
   "outputs": [],
   "source": [
    "from matplotlib import pyplot as plt\n",
    "\n",
    "import struct\n",
    "import numpy as np\n",
    "\n",
    "import cv2\n",
    "from google.colab.patches import cv2_imshow\n",
    "\n",
    "from keras import backend as k\n",
    "\n",
    "import keras\n",
    "\n",
    "import tensorflow as tf\n",
    "from tensorflow.keras import layers, models\n",
    "from sklearn.metrics import classification_report, confusion_matrix"
   ]
  },
  {
   "cell_type": "markdown",
   "metadata": {
    "id": "YndAoH2lO2PJ"
   },
   "source": [
    "Here is my dataloader function takes ubyte files and uploads to x_train, y_train, x_test, y_test."
   ]
  },
  {
   "cell_type": "code",
   "execution_count": null,
   "metadata": {
    "id": "8N4_naA_3TZI"
   },
   "outputs": [],
   "source": [
    "def load_mnist_data():\n",
    "    # Load training data\n",
    "    with open('train-images-idx3-ubyte', 'rb') as f:\n",
    "        magic, num_images, rows, cols = struct.unpack('>IIII', f.read(16))\n",
    "        x_train = np.fromfile(f, dtype=np.uint8).reshape(num_images, rows, cols)\n",
    "\n",
    "    with open('train-labels-idx1-ubyte', 'rb') as f:\n",
    "        magic, num_labels = struct.unpack('>II', f.read(8))\n",
    "        y_train = np.fromfile(f, dtype=np.uint8)\n",
    "\n",
    "    # Load test data\n",
    "    with open('t10k-images-idx3-ubyte', 'rb') as f:\n",
    "        magic, num_images, rows, cols = struct.unpack('>IIII', f.read(16))\n",
    "        x_test = np.fromfile(f, dtype=np.uint8).reshape(num_images, rows, cols)\n",
    "\n",
    "    with open('t10k-labels-idx1-ubyte', 'rb') as f:\n",
    "        magic, num_labels = struct.unpack('>II', f.read(8))\n",
    "        y_test = np.fromfile(f, dtype=np.uint8)\n",
    "\n",
    "    return x_train, y_train, x_test, y_test"
   ]
  },
  {
   "cell_type": "markdown",
   "metadata": {
    "id": "3b5f-ArhO-Cg"
   },
   "source": [
    "Calling function and controling shapes if it is okey with normal"
   ]
  },
  {
   "cell_type": "code",
   "execution_count": null,
   "metadata": {
    "id": "n3KTLBDjcngw"
   },
   "outputs": [],
   "source": [
    "x_train, y_train, x_test, y_test = load_mnist_data()"
   ]
  },
  {
   "cell_type": "code",
   "execution_count": null,
   "metadata": {
    "colab": {
     "base_uri": "https://localhost:8080/"
    },
    "id": "mP4XrQJtPo1i",
    "outputId": "19043c99-ed42-4b80-8391-f8500fbaebda"
   },
   "outputs": [
    {
     "data": {
      "text/plain": [
       "(60000, 28, 28)"
      ]
     },
     "execution_count": 18,
     "metadata": {},
     "output_type": "execute_result"
    }
   ],
   "source": [
    "x_train.shape"
   ]
  },
  {
   "cell_type": "code",
   "execution_count": null,
   "metadata": {
    "colab": {
     "base_uri": "https://localhost:8080/"
    },
    "id": "wkxue4mH1VRR",
    "outputId": "fd08fd9c-beb5-4e2f-97a8-2fac10d1a7b7"
   },
   "outputs": [
    {
     "data": {
      "text/plain": [
       "(60000,)"
      ]
     },
     "execution_count": 19,
     "metadata": {},
     "output_type": "execute_result"
    }
   ],
   "source": [
    "y_train.shape"
   ]
  },
  {
   "cell_type": "code",
   "execution_count": null,
   "metadata": {
    "colab": {
     "base_uri": "https://localhost:8080/"
    },
    "id": "L_YydjRN1aap",
    "outputId": "0aaeace2-5e66-4eca-b56e-1003cd773b94"
   },
   "outputs": [
    {
     "data": {
      "text/plain": [
       "(10000, 28, 28)"
      ]
     },
     "execution_count": 20,
     "metadata": {},
     "output_type": "execute_result"
    }
   ],
   "source": [
    "x_test.shape"
   ]
  },
  {
   "cell_type": "code",
   "execution_count": null,
   "metadata": {
    "colab": {
     "base_uri": "https://localhost:8080/"
    },
    "id": "-L_vdumx1bsZ",
    "outputId": "9e13c7b1-23d3-4aff-e88d-8c8574f64f88"
   },
   "outputs": [
    {
     "data": {
      "text/plain": [
       "(10000,)"
      ]
     },
     "execution_count": 21,
     "metadata": {},
     "output_type": "execute_result"
    }
   ],
   "source": [
    "y_test.shape"
   ]
  },
  {
   "cell_type": "code",
   "execution_count": null,
   "metadata": {
    "colab": {
     "base_uri": "https://localhost:8080/",
     "height": 45
    },
    "id": "T07ufAO111BC",
    "outputId": "a2b437cf-8e78-49d7-ddae-449905edfc00"
   },
   "outputs": [
    {
     "data": {
      "image/png": "[encoded data removed]",
      "text/plain": [
       "<PIL.Image.Image image mode=L size=28x28 at 0x7F15C37E3A90>"
      ]
     },
     "metadata": {},
     "output_type": "display_data"
    }
   ],
   "source": [
    "cv2_imshow(x_train[0])"
   ]
  },
  {
   "cell_type": "markdown",
   "metadata": {
    "id": "H0zAU7GXPDTB"
   },
   "source": [
    "Here a sample of dataset"
   ]
  },
  {
   "cell_type": "code",
   "execution_count": null,
   "metadata": {
    "colab": {
     "base_uri": "https://localhost:8080/",
     "height": 433
    },
    "id": "ZqPBXOvr14YQ",
    "outputId": "19eb380a-05e8-42f5-def8-622b547b0e5e"
   },
   "outputs": [
    {
     "data": {
      "image/png": "[encoded data removed]",
      "text/plain": [
       "<Figure size 640x480 with 9 Axes>"
      ]
     },
     "metadata": {},
     "output_type": "display_data"
    }
   ],
   "source": [
    "for i in range(9):\n",
    " # define subplot\n",
    " plt.subplot(330 + 1 + i)\n",
    " # plot raw pixel data\n",
    " plt.imshow(x_train[i], cmap=plt.get_cmap('gray'))\n",
    "# show the figure\n",
    "plt.show()"
   ]
  },
  {
   "cell_type": "markdown",
   "metadata": {
    "id": "b_LDIL_LPVCa"
   },
   "source": [
    "Here necessary preprocessing steps"
   ]
  },
  {
   "cell_type": "code",
   "execution_count": null,
   "metadata": {
    "id": "EHmMPqJkJnJh"
   },
   "outputs": [],
   "source": [
    "img_rows, img_cols=28, 28\n",
    " \n",
    "if k.image_data_format() == 'channels_first':\n",
    "   x_train = x_train.reshape(x_train.shape[0], 1, img_rows, img_cols)\n",
    "   x_test = x_test.reshape(x_test.shape[0], 1, img_rows, img_cols)\n",
    "   inpx = (1, img_rows, img_cols)\n",
    " \n",
    "else:\n",
    "   x_train = x_train.reshape(x_train.shape[0], img_rows, img_cols, 1)\n",
    "   x_test = x_test.reshape(x_test.shape[0], img_rows, img_cols, 1)\n",
    "   inpx = (img_rows, img_cols, 1)\n",
    " \n",
    "x_train = x_train.astype('float32')\n",
    "x_test = x_test.astype('float32')\n",
    "x_train /= 255\n",
    "x_test /= 255"
   ]
  },
  {
   "cell_type": "code",
   "execution_count": null,
   "metadata": {
    "id": "w7jMZFT7KHLu"
   },
   "outputs": [],
   "source": [
    "y_train = keras.utils.to_categorical(y_train)\n",
    "y_test = keras.utils.to_categorical(y_test)"
   ]
  },
  {
   "cell_type": "markdown",
   "metadata": {
    "id": "0MiOdvAGPb4m"
   },
   "source": [
    "Under this line here are 4 models that I changed hierarchy, learning rate, activation function, stride, pooling layers. "
   ]
  },
  {
   "cell_type": "code",
   "execution_count": null,
   "metadata": {
    "colab": {
     "base_uri": "https://localhost:8080/"
    },
    "id": "qzitHQEaM8UK",
    "outputId": "216769ca-bfa4-4985-c84a-11d12641c8c9"
   },
   "outputs": [
    {
     "name": "stdout",
     "output_type": "stream",
     "text": [
      "Epoch 1/10\n",
      "469/469 [==============================] - 80s 168ms/step - loss: 0.2169 - accuracy: 0.9366 - val_loss: 0.0623 - val_accuracy: 0.9800\n",
      "Epoch 2/10\n",
      "469/469 [==============================] - 80s 170ms/step - loss: 0.0586 - accuracy: 0.9817 - val_loss: 0.0542 - val_accuracy: 0.9837\n",
      "Epoch 3/10\n",
      "469/469 [==============================] - 75s 161ms/step - loss: 0.0405 - accuracy: 0.9875 - val_loss: 0.0303 - val_accuracy: 0.9904\n",
      "Epoch 4/10\n",
      "469/469 [==============================] - 79s 168ms/step - loss: 0.0313 - accuracy: 0.9902 - val_loss: 0.0291 - val_accuracy: 0.9905\n",
      "Epoch 5/10\n",
      "469/469 [==============================] - 77s 164ms/step - loss: 0.0227 - accuracy: 0.9929 - val_loss: 0.0398 - val_accuracy: 0.9874\n",
      "Epoch 6/10\n",
      "469/469 [==============================] - 79s 168ms/step - loss: 0.0195 - accuracy: 0.9940 - val_loss: 0.0316 - val_accuracy: 0.9900\n",
      "Epoch 7/10\n",
      "469/469 [==============================] - 77s 164ms/step - loss: 0.0155 - accuracy: 0.9949 - val_loss: 0.0333 - val_accuracy: 0.9905\n",
      "Epoch 8/10\n",
      "469/469 [==============================] - 77s 164ms/step - loss: 0.0129 - accuracy: 0.9959 - val_loss: 0.0273 - val_accuracy: 0.9919\n",
      "Epoch 9/10\n",
      "469/469 [==============================] - 75s 160ms/step - loss: 0.0096 - accuracy: 0.9968 - val_loss: 0.0279 - val_accuracy: 0.9908\n",
      "Epoch 10/10\n",
      "469/469 [==============================] - 74s 158ms/step - loss: 0.0101 - accuracy: 0.9965 - val_loss: 0.0324 - val_accuracy: 0.9903\n",
      "313/313 [==============================] - 4s 12ms/step - loss: 0.0324 - accuracy: 0.9903\n",
      "Test accuracy: 0.9902999997138977\n",
      "313/313 [==============================] - 5s 15ms/step\n",
      "Classification Report:\n",
      "               precision    recall  f1-score   support\n",
      "\n",
      "           0       0.99      1.00      0.99       980\n",
      "           1       0.99      1.00      1.00      1135\n",
      "           2       0.99      0.99      0.99      1032\n",
      "           3       0.99      1.00      0.99      1010\n",
      "           4       0.98      1.00      0.99       982\n",
      "           5       0.98      0.99      0.98       892\n",
      "           6       1.00      0.98      0.99       958\n",
      "           7       0.99      0.99      0.99      1028\n",
      "           8       0.99      0.98      0.99       974\n",
      "           9       1.00      0.97      0.98      1009\n",
      "\n",
      "    accuracy                           0.99     10000\n",
      "   macro avg       0.99      0.99      0.99     10000\n",
      "weighted avg       0.99      0.99      0.99     10000\n",
      "\n",
      "Confusion Matrix:\n",
      " [[ 977    1    0    1    0    0    1    0    0    0]\n",
      " [   0 1135    0    0    0    0    0    0    0    0]\n",
      " [   0    0 1022    0    4    0    0    6    0    0]\n",
      " [   0    0    0 1007    0    3    0    0    0    0]\n",
      " [   0    0    0    0  981    0    0    0    0    1]\n",
      " [   0    0    0    6    0  884    1    0    1    0]\n",
      " [   4    5    1    0    1    8  936    0    3    0]\n",
      " [   0    2    3    0    0    1    0 1021    1    0]\n",
      " [   4    1    2    4    1    2    0    0  959    1]\n",
      " [   0    2    1    1   12    7    0    3    2  981]]\n"
     ]
    }
   ],
   "source": [
    "# Define the model architecture\n",
    "model = models.Sequential()\n",
    "\n",
    "# Add a convolutional layer\n",
    "model.add(layers.Conv2D(32, (3, 3), padding='same', activation='relu', input_shape=(28, 28, 1)))\n",
    "\n",
    "# Add a pooling layer\n",
    "model.add(layers.MaxPooling2D((2, 2)))\n",
    "\n",
    "# Add another convolutional layer\n",
    "model.add(layers.Conv2D(64, (3, 3), padding='same', activation='relu'))\n",
    "\n",
    "# Add another pooling layer\n",
    "model.add(layers.MaxPooling2D((2, 2)))\n",
    "\n",
    "# Flatten the output from the previous layer\n",
    "model.add(layers.Flatten())\n",
    "\n",
    "# Add a fully connected layer\n",
    "model.add(layers.Dense(64, activation='relu'))\n",
    "\n",
    "# Add the output layer\n",
    "model.add(layers.Dense(10, activation='softmax'))\n",
    "\n",
    "# Compile the model with a chosen optimizer, loss function, and evaluation metric\n",
    "model.compile(optimizer=tf.keras.optimizers.Adam(learning_rate=0.001),\n",
    "              loss='categorical_crossentropy',\n",
    "              metrics=['accuracy'])\n",
    "\n",
    "# Train the model\n",
    "history = model.fit(x_train, y_train, batch_size=128, epochs=10, validation_data=(x_test, y_test))\n",
    "\n",
    "# Evaluate the model on test set\n",
    "test_loss, test_acc = model.evaluate(x_test, y_test)\n",
    "print('Test accuracy:', test_acc)\n",
    "\n",
    "# Make predictions on test set\n",
    "y_pred = model.predict(x_test)\n",
    "y_pred = tf.argmax(y_pred, axis=1)\n",
    "\n",
    "# Print classification report and confusion matrix\n",
    "print('Classification Report:\\n', classification_report(y_test.argmax(axis=1), y_pred))\n",
    "print('Confusion Matrix:\\n', confusion_matrix(y_test.argmax(axis=1), y_pred))"
   ]
  },
  {
   "cell_type": "code",
   "execution_count": null,
   "metadata": {
    "colab": {
     "base_uri": "https://localhost:8080/"
    },
    "id": "orXn4ssuMq5v",
    "outputId": "b2e8679c-914f-48f9-e3c7-18b93dc575d9"
   },
   "outputs": [
    {
     "name": "stdout",
     "output_type": "stream",
     "text": [
      "Epoch 1/10\n",
      "938/938 [==============================] - 80s 83ms/step - loss: 0.1346 - accuracy: 0.9595 - val_loss: 0.0697 - val_accuracy: 0.9784\n",
      "Epoch 2/10\n",
      "938/938 [==============================] - 76s 81ms/step - loss: 0.0700 - accuracy: 0.9793 - val_loss: 0.0552 - val_accuracy: 0.9824\n",
      "Epoch 3/10\n",
      "938/938 [==============================] - 80s 86ms/step - loss: 0.0623 - accuracy: 0.9825 - val_loss: 0.0722 - val_accuracy: 0.9812\n",
      "Epoch 4/10\n",
      "938/938 [==============================] - 85s 90ms/step - loss: 0.0556 - accuracy: 0.9851 - val_loss: 0.0693 - val_accuracy: 0.9800\n",
      "Epoch 5/10\n",
      "938/938 [==============================] - 77s 83ms/step - loss: 0.0599 - accuracy: 0.9838 - val_loss: 0.0708 - val_accuracy: 0.9813\n",
      "Epoch 6/10\n",
      "938/938 [==============================] - 76s 81ms/step - loss: 0.0511 - accuracy: 0.9863 - val_loss: 0.0714 - val_accuracy: 0.9801\n",
      "Epoch 7/10\n",
      "938/938 [==============================] - 75s 80ms/step - loss: 0.0517 - accuracy: 0.9872 - val_loss: 0.0847 - val_accuracy: 0.9809\n",
      "Epoch 8/10\n",
      "938/938 [==============================] - 76s 81ms/step - loss: 0.0504 - accuracy: 0.9880 - val_loss: 0.0762 - val_accuracy: 0.9849\n",
      "Epoch 9/10\n",
      "938/938 [==============================] - 76s 81ms/step - loss: 0.0480 - accuracy: 0.9882 - val_loss: 0.0761 - val_accuracy: 0.9846\n",
      "Epoch 10/10\n",
      "938/938 [==============================] - 77s 82ms/step - loss: 0.0488 - accuracy: 0.9887 - val_loss: 0.0801 - val_accuracy: 0.9815\n",
      "313/313 [==============================] - 4s 12ms/step - loss: 0.0801 - accuracy: 0.9815\n",
      "Test accuracy: 0.9815000295639038\n",
      "313/313 [==============================] - 5s 16ms/step\n",
      "Classification Report:\n",
      "               precision    recall  f1-score   support\n",
      "\n",
      "           0       0.99      0.99      0.99       980\n",
      "           1       0.99      0.99      0.99      1135\n",
      "           2       0.99      0.99      0.99      1032\n",
      "           3       0.98      0.99      0.99      1010\n",
      "           4       0.99      0.96      0.97       982\n",
      "           5       0.98      0.97      0.97       892\n",
      "           6       0.98      0.98      0.98       958\n",
      "           7       0.98      0.99      0.98      1028\n",
      "           8       0.98      0.97      0.98       974\n",
      "           9       0.95      0.98      0.96      1009\n",
      "\n",
      "    accuracy                           0.98     10000\n",
      "   macro avg       0.98      0.98      0.98     10000\n",
      "weighted avg       0.98      0.98      0.98     10000\n",
      "\n",
      "Confusion Matrix:\n",
      " [[ 971    0    2    0    0    0    5    1    1    0]\n",
      " [   0 1129    0    2    0    0    0    3    1    0]\n",
      " [   3    1 1017    6    0    0    0    3    2    0]\n",
      " [   0    0    0 1004    0    4    0    1    1    0]\n",
      " [   2    3    1    0  940    0    1    7    3   25]\n",
      " [   1    0    0    5    0  866    9    2    1    8]\n",
      " [   7    1    0    0    1    2  943    0    4    0]\n",
      " [   0    2    1    0    2    1    0 1015    0    7]\n",
      " [   1    0    2    7    2    2    1    2  943   14]\n",
      " [   0    0    0    1    3   13    0    2    3  987]]\n"
     ]
    }
   ],
   "source": [
    "# Define the model architecture\n",
    "model2 = models.Sequential()\n",
    "\n",
    "# Add a convolutional layer\n",
    "model2.add(layers.Conv2D(16, (5, 5), padding='same', activation='relu', input_shape=(28, 28, 1)))\n",
    "\n",
    "# Add a pooling layer\n",
    "model2.add(layers.MaxPooling2D((2, 2)))\n",
    "\n",
    "# Add another convolutional layer\n",
    "model2.add(layers.Conv2D(32, (5, 5), padding='same', activation='relu'))\n",
    "\n",
    "# Add another pooling layer\n",
    "model2.add(layers.MaxPooling2D((2, 2)))\n",
    "\n",
    "# Flatten the output from the previous layer\n",
    "model2.add(layers.Flatten())\n",
    "\n",
    "# Add a fully connected layer\n",
    "model2.add(layers.Dense(64, activation='relu'))\n",
    "\n",
    "# Add the output layer\n",
    "model2.add(layers.Dense(10, activation='softmax'))\n",
    "\n",
    "# Compile the model with a chosen optimizer, loss function, and evaluation metric\n",
    "model2.compile(optimizer=tf.keras.optimizers.Adam(learning_rate=0.01),\n",
    "              loss='categorical_crossentropy',\n",
    "              metrics=['accuracy'])\n",
    "\n",
    "# Train the model\n",
    "history2 = model2.fit(x_train, y_train, batch_size=64, epochs=10, validation_data=(x_test, y_test))\n",
    "\n",
    "# Evaluate the model on test set\n",
    "test_loss2, test_acc2 = model2.evaluate(x_test, y_test)\n",
    "print('Test accuracy:', test_acc2)\n",
    "\n",
    "# Make predictions on test set\n",
    "y_pred2 = model2.predict(x_test)\n",
    "y_pred2 = tf.argmax(y_pred2, axis=1)\n",
    "\n",
    "# Print classification report and confusion matrix\n",
    "print('Classification Report:\\n', classification_report(y_test.argmax(axis=1), y_pred2))\n",
    "print('Confusion Matrix:\\n', confusion_matrix(y_test.argmax(axis=1), y_pred2))"
   ]
  },
  {
   "cell_type": "code",
   "execution_count": null,
   "metadata": {
    "colab": {
     "base_uri": "https://localhost:8080/"
    },
    "id": "VvZkkKPCOwM2",
    "outputId": "7c56d103-ec22-4f38-b403-8ab490af4d14"
   },
   "outputs": [
    {
     "name": "stdout",
     "output_type": "stream",
     "text": [
      "Epoch 1/10\n",
      "938/938 [==============================] - 224s 238ms/step - loss: 2.3126 - accuracy: 0.1035 - val_loss: 2.3024 - val_accuracy: 0.1135\n",
      "Epoch 2/10\n",
      "938/938 [==============================] - 261s 278ms/step - loss: 2.3063 - accuracy: 0.1042 - val_loss: 2.3084 - val_accuracy: 0.1135\n",
      "Epoch 3/10\n",
      "938/938 [==============================] - 225s 240ms/step - loss: 2.3063 - accuracy: 0.1067 - val_loss: 2.3034 - val_accuracy: 0.1028\n",
      "Epoch 4/10\n",
      "938/938 [==============================] - 208s 222ms/step - loss: 1.4060 - accuracy: 0.4785 - val_loss: 0.2022 - val_accuracy: 0.9419\n",
      "Epoch 5/10\n",
      "938/938 [==============================] - 212s 226ms/step - loss: 0.1458 - accuracy: 0.9574 - val_loss: 0.0982 - val_accuracy: 0.9710\n",
      "Epoch 6/10\n",
      "938/938 [==============================] - 210s 224ms/step - loss: 0.0910 - accuracy: 0.9732 - val_loss: 0.0753 - val_accuracy: 0.9762\n",
      "Epoch 7/10\n",
      "938/938 [==============================] - 211s 225ms/step - loss: 0.0681 - accuracy: 0.9803 - val_loss: 0.0613 - val_accuracy: 0.9793\n",
      "Epoch 8/10\n",
      "938/938 [==============================] - 209s 223ms/step - loss: 0.0545 - accuracy: 0.9839 - val_loss: 0.0513 - val_accuracy: 0.9821\n",
      "Epoch 9/10\n",
      "938/938 [==============================] - 208s 221ms/step - loss: 0.0456 - accuracy: 0.9861 - val_loss: 0.0540 - val_accuracy: 0.9822\n",
      "Epoch 10/10\n",
      "938/938 [==============================] - 209s 223ms/step - loss: 0.0390 - accuracy: 0.9882 - val_loss: 0.0465 - val_accuracy: 0.9847\n",
      "313/313 [==============================] - 9s 28ms/step - loss: 0.0465 - accuracy: 0.9847\n",
      "Test accuracy: 0.9847000241279602\n",
      "313/313 [==============================] - 10s 32ms/step\n",
      "Classification Report:\n",
      "               precision    recall  f1-score   support\n",
      "\n",
      "           0       0.99      0.99      0.99       980\n",
      "           1       0.99      0.99      0.99      1135\n",
      "           2       0.98      0.99      0.99      1032\n",
      "           3       0.99      0.98      0.99      1010\n",
      "           4       0.99      0.99      0.99       982\n",
      "           5       0.97      0.99      0.98       892\n",
      "           6       0.98      0.99      0.99       958\n",
      "           7       0.97      0.99      0.98      1028\n",
      "           8       0.99      0.97      0.98       974\n",
      "           9       0.99      0.97      0.98      1009\n",
      "\n",
      "    accuracy                           0.98     10000\n",
      "   macro avg       0.98      0.98      0.98     10000\n",
      "weighted avg       0.98      0.98      0.98     10000\n",
      "\n",
      "Confusion Matrix:\n",
      " [[ 974    0    1    0    0    0    4    1    0    0]\n",
      " [   0 1128    2    0    0    0    2    2    1    0]\n",
      " [   2    1 1022    0    1    0    0    6    0    0]\n",
      " [   0    0    3  988    0   10    0    5    3    1]\n",
      " [   0    1    2    0  968    0    2    1    2    6]\n",
      " [   2    0    0    2    0  879    6    1    1    1]\n",
      " [   2    3    0    1    1    4  947    0    0    0]\n",
      " [   0    1    7    2    0    0    0 1018    0    0]\n",
      " [   6    1    5    2    1    3    1    6  947    2]\n",
      " [   0    4    0    1    5    6    0   14    3  976]]\n"
     ]
    }
   ],
   "source": [
    "# Define the model architecture\n",
    "model3 = models.Sequential()\n",
    "\n",
    "# Add a convolutional layer\n",
    "model3.add(layers.Conv2D(64, (3, 3), padding='same', activation='sigmoid', input_shape=(28, 28, 1)))\n",
    "\n",
    "# Add a pooling layer\n",
    "model3.add(layers.MaxPooling2D((2, 2)))\n",
    "\n",
    "# Add another convolutional layer\n",
    "model3.add(layers.Conv2D(128, (3, 3), padding='same', activation='sigmoid'))\n",
    "\n",
    "# Add another pooling layer\n",
    "model3.add(layers.MaxPooling2D((2, 2)))\n",
    "\n",
    "# Flatten the output from the previous layer\n",
    "model3.add(layers.Flatten())\n",
    "\n",
    "# Add a fully connected layer\n",
    "model3.add(layers.Dense(128, activation='sigmoid'))\n",
    "\n",
    "# Add the output layer\n",
    "model3.add(layers.Dense(10, activation='softmax'))\n",
    "\n",
    "# Compile the model with a chosen optimizer, loss function, and evaluation metric\n",
    "model3.compile(optimizer=tf.keras.optimizers.Adam(learning_rate=0.001),\n",
    "              loss='categorical_crossentropy',\n",
    "              metrics=['accuracy'])\n",
    "\n",
    "history3 = model3.fit(x_train, y_train, batch_size=64, epochs=10, validation_data=(x_test, y_test))\n",
    "\n",
    "# Evaluate the model on test set\n",
    "test_loss3, test_acc3 = model3.evaluate(x_test, y_test)\n",
    "print('Test accuracy:', test_acc3)\n",
    "\n",
    "# Make predictions on test set\n",
    "y_pred3 = model3.predict(x_test)\n",
    "y_pred3 = tf.argmax(y_pred3, axis=1)\n",
    "\n",
    "# Print classification report and confusion matrix\n",
    "print('Classification Report:\\n', classification_report(y_test.argmax(axis=1), y_pred3))\n",
    "print('Confusion Matrix:\\n', confusion_matrix(y_test.argmax(axis=1), y_pred3))"
   ]
  },
  {
   "cell_type": "code",
   "execution_count": null,
   "metadata": {
    "colab": {
     "base_uri": "https://localhost:8080/"
    },
    "id": "31FX21rbTiq3",
    "outputId": "f1f5e7d0-4bbb-4a55-fb29-ddee3db64b04"
   },
   "outputs": [
    {
     "name": "stdout",
     "output_type": "stream",
     "text": [
      "Epoch 1/10\n",
      "469/469 [==============================] - 403s 856ms/step - loss: 0.1880 - accuracy: 0.9414 - val_loss: 0.0458 - val_accuracy: 0.9836\n",
      "Epoch 2/10\n",
      "469/469 [==============================] - 393s 838ms/step - loss: 0.0474 - accuracy: 0.9853 - val_loss: 0.0311 - val_accuracy: 0.9901\n",
      "Epoch 3/10\n",
      "469/469 [==============================] - 392s 836ms/step - loss: 0.0361 - accuracy: 0.9893 - val_loss: 0.0304 - val_accuracy: 0.9899\n",
      "Epoch 4/10\n",
      "469/469 [==============================] - 390s 831ms/step - loss: 0.0289 - accuracy: 0.9915 - val_loss: 0.0221 - val_accuracy: 0.9937\n",
      "Epoch 5/10\n",
      "469/469 [==============================] - 381s 813ms/step - loss: 0.0239 - accuracy: 0.9928 - val_loss: 0.0237 - val_accuracy: 0.9932\n",
      "Epoch 6/10\n",
      "469/469 [==============================] - 390s 831ms/step - loss: 0.0203 - accuracy: 0.9939 - val_loss: 0.0274 - val_accuracy: 0.9920\n",
      "Epoch 7/10\n",
      "469/469 [==============================] - 384s 820ms/step - loss: 0.0177 - accuracy: 0.9943 - val_loss: 0.0297 - val_accuracy: 0.9915\n",
      "Epoch 8/10\n",
      "469/469 [==============================] - 393s 837ms/step - loss: 0.0152 - accuracy: 0.9954 - val_loss: 0.0244 - val_accuracy: 0.9930\n",
      "Epoch 9/10\n",
      "469/469 [==============================] - 389s 830ms/step - loss: 0.0148 - accuracy: 0.9956 - val_loss: 0.0234 - val_accuracy: 0.9935\n",
      "Epoch 10/10\n",
      "469/469 [==============================] - 393s 837ms/step - loss: 0.0122 - accuracy: 0.9961 - val_loss: 0.0274 - val_accuracy: 0.9924\n",
      "313/313 [==============================] - 16s 50ms/step - loss: 0.0274 - accuracy: 0.9924\n",
      "Test accuracy: 0.9923999905586243\n",
      "313/313 [==============================] - 16s 52ms/step\n",
      "Classification Report:\n",
      "               precision    recall  f1-score   support\n",
      "\n",
      "           0       1.00      0.99      1.00       980\n",
      "           1       1.00      1.00      1.00      1135\n",
      "           2       0.99      1.00      0.99      1032\n",
      "           3       0.99      0.99      0.99      1010\n",
      "           4       0.99      1.00      0.99       982\n",
      "           5       0.98      0.99      0.99       892\n",
      "           6       0.99      0.99      0.99       958\n",
      "           7       0.99      0.99      0.99      1028\n",
      "           8       1.00      0.98      0.99       974\n",
      "           9       0.99      0.99      0.99      1009\n",
      "\n",
      "    accuracy                           0.99     10000\n",
      "   macro avg       0.99      0.99      0.99     10000\n",
      "weighted avg       0.99      0.99      0.99     10000\n",
      "\n",
      "Confusion Matrix:\n",
      " [[ 972    0    1    0    1    0    4    1    1    0]\n",
      " [   0 1135    0    0    0    0    0    0    0    0]\n",
      " [   0    0 1029    0    0    0    0    3    0    0]\n",
      " [   0    0    1 1000    0    5    0    3    1    0]\n",
      " [   0    0    0    0  979    0    0    0    0    3]\n",
      " [   0    0    0    5    0  886    1    0    0    0]\n",
      " [   1    3    2    0    2    3  947    0    0    0]\n",
      " [   0    1    3    0    0    0    0 1022    0    2]\n",
      " [   0    0    2    2    3    2    1    3  959    2]\n",
      " [   0    0    0    0    6    6    0    2    0  995]]\n"
     ]
    }
   ],
   "source": [
    "model4 = models.Sequential()\n",
    "\n",
    "# First convolutional layer with 32 filters, 3x3 kernel size, and 'same' padding\n",
    "model4.add(layers.Conv2D(32, (3, 3), padding='same', activation='relu', input_shape=(28, 28, 1)))\n",
    "\n",
    "# First pooling layer with 2x2 pool size and stride of 2\n",
    "model4.add(layers.MaxPooling2D((2, 2), strides=(2, 2)))\n",
    "\n",
    "# Second convolutional layer with 64 filters, 3x3 kernel size, and 'same' padding\n",
    "model4.add(layers.Conv2D(64, (3, 3), padding='same', activation='relu'))\n",
    "\n",
    "# Second pooling layer with 2x2 pool size and stride of 1\n",
    "model4.add(layers.MaxPooling2D((2, 2), strides=(1, 1)))\n",
    "\n",
    "# Third convolutional layer with 128 filters, 3x3 kernel size, and 'same' padding\n",
    "model4.add(layers.Conv2D(128, (3, 3), padding='same', activation='relu'))\n",
    "\n",
    "# Third pooling layer with 3x3 pool size and stride of 2\n",
    "model4.add(layers.MaxPooling2D((3, 3), strides=(2, 2)))\n",
    "\n",
    "# Fourth convolutional layer with 256 filters, 3x3 kernel size, and 'same' padding\n",
    "model4.add(layers.Conv2D(256, (3, 3), padding='same', activation='relu'))\n",
    "\n",
    "# Fourth pooling layer with 2x2 pool size and stride of 1\n",
    "model4.add(layers.MaxPooling2D((2, 2), strides=(1, 1)))\n",
    "\n",
    "# Flatten the output from the previous layer\n",
    "model4.add(layers.Flatten())\n",
    "\n",
    "# First fully connected layer with 512 units and relu activation\n",
    "model4.add(layers.Dense(512, activation='relu'))\n",
    "\n",
    "# Dropout layer with 0.5 rate to reduce overfitting\n",
    "model4.add(layers.Dropout(0.5))\n",
    "\n",
    "# Second fully connected layer with 10 units and softmax activation for classification\n",
    "model4.add(layers.Dense(10, activation='softmax'))\n",
    "\n",
    "# Compile the model with a chosen optimizer, loss function, and evaluation metric\n",
    "model4.compile(optimizer=tf.keras.optimizers.Adam(learning_rate=0.001),\n",
    "              loss='categorical_crossentropy',\n",
    "              metrics=['accuracy'])\n",
    "\n",
    "history4 = model4.fit(x_train, y_train, batch_size=128, epochs=10, validation_data=(x_test, y_test))\n",
    "\n",
    "# Evaluate the model on test set\n",
    "test_loss4, test_acc4 = model4.evaluate(x_test, y_test)\n",
    "print('Test accuracy:', test_acc4)\n",
    "\n",
    "# Make predictions on test set\n",
    "y_pred4 = model4.predict(x_test)\n",
    "y_pred4 = tf.argmax(y_pred4, axis=1)\n",
    "\n",
    "# Print classification report and confusion matrix\n",
    "print('Classification Report:\\n', classification_report(y_test.argmax(axis=1), y_pred4))\n",
    "print('Confusion Matrix:\\n', confusion_matrix(y_test.argmax(axis=1), y_pred4))"
   ]
  }
 ],
 "metadata": {
  "colab": {
   "provenance": []
  },
  "kernelspec": {
   "display_name": "Python 3 (ipykernel)",
   "language": "python",
   "name": "python3"
  },
  "language_info": {
   "codemirror_mode": {
    "name": "ipython",
    "version": 3
   },
   "file_extension": ".py",
   "mimetype": "text/x-python",
   "name": "python",
   "nbconvert_exporter": "python",
   "pygments_lexer": "ipython3",
   "version": "3.9.12"
  }
 },
 "nbformat": 4,
 "nbformat_minor": 1
}
